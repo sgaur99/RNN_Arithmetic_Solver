{
 "cells": [
  {
   "cell_type": "code",
   "execution_count": 1,
   "metadata": {
    "id": "GZiuVDSTpWRu"
   },
   "outputs": [],
   "source": [
    "import numpy as np\n",
    "from termcolor import colored\n",
    "\n",
    "from tensorflow.keras.models import Sequential\n",
    "from tensorflow.keras.layers import RepeatVector , SimpleRNN , TimeDistributed, Dense\n",
    "from tensorflow.keras.callbacks import LambdaCallback , EarlyStopping"
   ]
  },
  {
   "cell_type": "code",
   "execution_count": 2,
   "metadata": {
    "colab": {
     "base_uri": "https://localhost:8080/",
     "height": 33
    },
    "id": "hQ11iZX0p5eS",
    "outputId": "ca6198c1-341d-48dc-9aab-3a4745c28fff"
   },
   "outputs": [
    {
     "name": "stdout",
     "output_type": "stream",
     "text": [
      "13\n"
     ]
    }
   ],
   "source": [
    "all_chars = '0123456789+-*'\n",
    "num_features = len(all_chars)\n",
    "print(num_features)\n",
    "max_length = 5"
   ]
  },
  {
   "cell_type": "code",
   "execution_count": 3,
   "metadata": {
    "colab": {
     "base_uri": "https://localhost:8080/",
     "height": 50
    },
    "id": "t7XtZ72VtSx1",
    "outputId": "1c2672f1-2f1c-40ad-ff60-a8203fe5e0c3"
   },
   "outputs": [
    {
     "name": "stdout",
     "output_type": "stream",
     "text": [
      "{'0': 0, '1': 1, '2': 2, '3': 3, '4': 4, '5': 5, '6': 6, '7': 7, '8': 8, '9': 9, '+': 10, '-': 11, '*': 12}\n",
      "{0: '0', 1: '1', 2: '2', 3: '3', 4: '4', 5: '5', 6: '6', 7: '7', 8: '8', 9: '9', 10: '+', 11: '-', 12: '*'}\n"
     ]
    }
   ],
   "source": [
    "char_to_index = dict((c,i) for i,c in enumerate(all_chars))\n",
    "index_to_char = dict((i,c) for i,c in enumerate(all_chars))\n",
    "print(char_to_index)\n",
    "print(index_to_char)"
   ]
  },
  {
   "cell_type": "code",
   "execution_count": 4,
   "metadata": {
    "id": "d4-g-mqHqX9z"
   },
   "outputs": [],
   "source": [
    "def generate_data():\n",
    "  first_num = np.random.randint(0,100)\n",
    "  second_num = np.random.randint(0,100)\n",
    "  sign = np.random.randint(0,4)\n",
    "  if sign == 0:\n",
    "    example = str(first_num) + '+' + str(second_num)\n",
    "    label = str(first_num + second_num)\n",
    "  elif sign == 1:\n",
    "    example = str(first_num) + '-' + str(second_num)\n",
    "    label = str(first_num - second_num)\n",
    "  elif sign == 2:\n",
    "    example = str(first_num) + '*' + str(second_num)\n",
    "    label = str(first_num * second_num)\n",
    "  elif sign == 3:\n",
    "    example = str(first_num) + '*' + str(second_num)\n",
    "    label = str(first_num * second_num)\n",
    "\n",
    "  return example,label"
   ]
  },
  {
   "cell_type": "code",
   "execution_count": 5,
   "metadata": {
    "colab": {
     "base_uri": "https://localhost:8080/",
     "height": 33
    },
    "id": "v8luTscDrTkL",
    "outputId": "c1d08ee4-36cb-45c2-c7da-6b06aa57bb02"
   },
   "outputs": [
    {
     "name": "stdout",
     "output_type": "stream",
     "text": [
      "29-19 10\n"
     ]
    }
   ],
   "source": [
    "e,l = generate_data()\n",
    "print(e,l)"
   ]
  },
  {
   "cell_type": "code",
   "execution_count": 6,
   "metadata": {
    "id": "hcjN6dx3rtt-"
   },
   "outputs": [],
   "source": [
    "def generate_dataset(num_examples=5000):\n",
    "  x_train = np.zeros((num_examples,max_length,num_features))\n",
    "  y_train = np.zeros((num_examples,max_length,num_features))\n",
    "\n",
    "  for i in range(num_examples):\n",
    "    e,l = generate_data()\n",
    "    e,l = vectorized(e,l)\n",
    "    x_train[i] = e\n",
    "    y_train[i] = l\n",
    "\n",
    "  return(x_train,y_train)"
   ]
  },
  {
   "cell_type": "code",
   "execution_count": 7,
   "metadata": {
    "id": "0ZCY3xZlsxRT"
   },
   "outputs": [],
   "source": [
    "def vectorized(example,label):\n",
    "  x = np.zeros((max_length,num_features))\n",
    "  y = np.zeros((max_length,num_features))\n",
    "  diff_x = max_length - len(example)\n",
    "  diff_y = max_length - len(label)\n",
    "\n",
    "  for i,c in enumerate(example):\n",
    "    x[diff_x+i,char_to_index[c]] = 1\n",
    "\n",
    "  for i in range(diff_x):\n",
    "    x[i,char_to_index['0']] = 1\n",
    "\n",
    "  for i,c in enumerate(label):\n",
    "    y[diff_y+i,char_to_index[c]] = 1\n",
    "\n",
    "  for i in range(diff_y):\n",
    "    y[i,char_to_index['0']] = 1\n",
    "\n",
    "  return x,y"
   ]
  },
  {
   "cell_type": "code",
   "execution_count": 8,
   "metadata": {
    "id": "os54KM5Fvhln"
   },
   "outputs": [],
   "source": [
    "a,b = vectorized('5+5','10')"
   ]
  },
  {
   "cell_type": "code",
   "execution_count": 9,
   "metadata": {
    "id": "gGXeglXuvn0o"
   },
   "outputs": [],
   "source": [
    "def devectorized(label):\n",
    "  result = [index_to_char[np.argmax(vec)] for i,vec in enumerate(label)]\n",
    "  return ''.join(result)"
   ]
  },
  {
   "cell_type": "code",
   "execution_count": 10,
   "metadata": {
    "colab": {
     "base_uri": "https://localhost:8080/",
     "height": 50
    },
    "id": "oqkj7rM-v82M",
    "outputId": "c92a0ac3-f4fc-4d91-faa2-705b0e6c6ac8"
   },
   "outputs": [
    {
     "name": "stdout",
     "output_type": "stream",
     "text": [
      "00010\n",
      "005+5\n"
     ]
    }
   ],
   "source": [
    "print(devectorized(b))\n",
    "print(devectorized(a))"
   ]
  },
  {
   "cell_type": "code",
   "execution_count": 11,
   "metadata": {
    "id": "tcz_T9newJKh"
   },
   "outputs": [],
   "source": [
    "def strip_zeros(example):\n",
    "  out = ''\n",
    "  encountered_non_zero = False\n",
    "  non_zero = '123456789-'\n",
    "  for i in example:\n",
    "    if i in non_zero :\n",
    "      encountered_non_zero = True\n",
    "    if encountered_non_zero == True:\n",
    "      out += i\n",
    "  return out"
   ]
  },
  {
   "cell_type": "code",
   "execution_count": 12,
   "metadata": {
    "colab": {
     "base_uri": "https://localhost:8080/",
     "height": 33
    },
    "id": "s_EduaIsx9SS",
    "outputId": "11735764-7965-4576-82d4-57cfa4695925"
   },
   "outputs": [
    {
     "data": {
      "text/plain": [
       "'10'"
      ]
     },
     "execution_count": 12,
     "metadata": {},
     "output_type": "execute_result"
    }
   ],
   "source": [
    "strip_zeros('0010')"
   ]
  },
  {
   "cell_type": "code",
   "execution_count": 13,
   "metadata": {
    "id": "2zVGA1lW1XT8"
   },
   "outputs": [],
   "source": [
    "hidden_units = 128"
   ]
  },
  {
   "cell_type": "code",
   "execution_count": 14,
   "metadata": {
    "id": "MeKUMWJm3ysF"
   },
   "outputs": [],
   "source": [
    "x_train , y_train = generate_dataset(100000)"
   ]
  },
  {
   "cell_type": "code",
   "execution_count": 15,
   "metadata": {
    "colab": {
     "base_uri": "https://localhost:8080/",
     "height": 277
    },
    "id": "qdzEq_Oe1KkG",
    "outputId": "44f82a43-57b5-4c47-f519-193a7e172d2a"
   },
   "outputs": [
    {
     "name": "stderr",
     "output_type": "stream",
     "text": [
      "D:\\Github\\PlayingWithRNNs\\myenv\\Lib\\site-packages\\keras\\src\\layers\\rnn\\rnn.py:204: UserWarning: Do not pass an `input_shape`/`input_dim` argument to a layer. When using Sequential models, prefer using an `Input(shape)` object as the first layer in the model instead.\n",
      "  super().__init__(**kwargs)\n"
     ]
    },
    {
     "data": {
      "text/html": [
       "<pre style=\"white-space:pre;overflow-x:auto;line-height:normal;font-family:Menlo,'DejaVu Sans Mono',consolas,'Courier New',monospace\"><span style=\"font-weight: bold\">Model: \"sequential\"</span>\n",
       "</pre>\n"
      ],
      "text/plain": [
       "\u001b[1mModel: \"sequential\"\u001b[0m\n"
      ]
     },
     "metadata": {},
     "output_type": "display_data"
    },
    {
     "data": {
      "text/html": [
       "<pre style=\"white-space:pre;overflow-x:auto;line-height:normal;font-family:Menlo,'DejaVu Sans Mono',consolas,'Courier New',monospace\">┏━━━━━━━━━━━━━━━━━━━━━━━━━━━━━━━━━━━━━━┳━━━━━━━━━━━━━━━━━━━━━━━━━━━━━┳━━━━━━━━━━━━━━━━━┓\n",
       "┃<span style=\"font-weight: bold\"> Layer (type)                         </span>┃<span style=\"font-weight: bold\"> Output Shape                </span>┃<span style=\"font-weight: bold\">         Param # </span>┃\n",
       "┡━━━━━━━━━━━━━━━━━━━━━━━━━━━━━━━━━━━━━━╇━━━━━━━━━━━━━━━━━━━━━━━━━━━━━╇━━━━━━━━━━━━━━━━━┩\n",
       "│ simple_rnn (<span style=\"color: #0087ff; text-decoration-color: #0087ff\">SimpleRNN</span>)               │ (<span style=\"color: #00d7ff; text-decoration-color: #00d7ff\">None</span>, <span style=\"color: #00af00; text-decoration-color: #00af00\">128</span>)                 │          <span style=\"color: #00af00; text-decoration-color: #00af00\">18,176</span> │\n",
       "├──────────────────────────────────────┼─────────────────────────────┼─────────────────┤\n",
       "│ repeat_vector (<span style=\"color: #0087ff; text-decoration-color: #0087ff\">RepeatVector</span>)         │ (<span style=\"color: #00d7ff; text-decoration-color: #00d7ff\">None</span>, <span style=\"color: #00af00; text-decoration-color: #00af00\">5</span>, <span style=\"color: #00af00; text-decoration-color: #00af00\">128</span>)              │               <span style=\"color: #00af00; text-decoration-color: #00af00\">0</span> │\n",
       "├──────────────────────────────────────┼─────────────────────────────┼─────────────────┤\n",
       "│ simple_rnn_1 (<span style=\"color: #0087ff; text-decoration-color: #0087ff\">SimpleRNN</span>)             │ (<span style=\"color: #00d7ff; text-decoration-color: #00d7ff\">None</span>, <span style=\"color: #00af00; text-decoration-color: #00af00\">5</span>, <span style=\"color: #00af00; text-decoration-color: #00af00\">128</span>)              │          <span style=\"color: #00af00; text-decoration-color: #00af00\">32,896</span> │\n",
       "├──────────────────────────────────────┼─────────────────────────────┼─────────────────┤\n",
       "│ time_distributed (<span style=\"color: #0087ff; text-decoration-color: #0087ff\">TimeDistributed</span>)   │ (<span style=\"color: #00d7ff; text-decoration-color: #00d7ff\">None</span>, <span style=\"color: #00af00; text-decoration-color: #00af00\">5</span>, <span style=\"color: #00af00; text-decoration-color: #00af00\">13</span>)               │           <span style=\"color: #00af00; text-decoration-color: #00af00\">1,677</span> │\n",
       "└──────────────────────────────────────┴─────────────────────────────┴─────────────────┘\n",
       "</pre>\n"
      ],
      "text/plain": [
       "┏━━━━━━━━━━━━━━━━━━━━━━━━━━━━━━━━━━━━━━┳━━━━━━━━━━━━━━━━━━━━━━━━━━━━━┳━━━━━━━━━━━━━━━━━┓\n",
       "┃\u001b[1m \u001b[0m\u001b[1mLayer (type)                        \u001b[0m\u001b[1m \u001b[0m┃\u001b[1m \u001b[0m\u001b[1mOutput Shape               \u001b[0m\u001b[1m \u001b[0m┃\u001b[1m \u001b[0m\u001b[1m        Param #\u001b[0m\u001b[1m \u001b[0m┃\n",
       "┡━━━━━━━━━━━━━━━━━━━━━━━━━━━━━━━━━━━━━━╇━━━━━━━━━━━━━━━━━━━━━━━━━━━━━╇━━━━━━━━━━━━━━━━━┩\n",
       "│ simple_rnn (\u001b[38;5;33mSimpleRNN\u001b[0m)               │ (\u001b[38;5;45mNone\u001b[0m, \u001b[38;5;34m128\u001b[0m)                 │          \u001b[38;5;34m18,176\u001b[0m │\n",
       "├──────────────────────────────────────┼─────────────────────────────┼─────────────────┤\n",
       "│ repeat_vector (\u001b[38;5;33mRepeatVector\u001b[0m)         │ (\u001b[38;5;45mNone\u001b[0m, \u001b[38;5;34m5\u001b[0m, \u001b[38;5;34m128\u001b[0m)              │               \u001b[38;5;34m0\u001b[0m │\n",
       "├──────────────────────────────────────┼─────────────────────────────┼─────────────────┤\n",
       "│ simple_rnn_1 (\u001b[38;5;33mSimpleRNN\u001b[0m)             │ (\u001b[38;5;45mNone\u001b[0m, \u001b[38;5;34m5\u001b[0m, \u001b[38;5;34m128\u001b[0m)              │          \u001b[38;5;34m32,896\u001b[0m │\n",
       "├──────────────────────────────────────┼─────────────────────────────┼─────────────────┤\n",
       "│ time_distributed (\u001b[38;5;33mTimeDistributed\u001b[0m)   │ (\u001b[38;5;45mNone\u001b[0m, \u001b[38;5;34m5\u001b[0m, \u001b[38;5;34m13\u001b[0m)               │           \u001b[38;5;34m1,677\u001b[0m │\n",
       "└──────────────────────────────────────┴─────────────────────────────┴─────────────────┘\n"
      ]
     },
     "metadata": {},
     "output_type": "display_data"
    },
    {
     "data": {
      "text/html": [
       "<pre style=\"white-space:pre;overflow-x:auto;line-height:normal;font-family:Menlo,'DejaVu Sans Mono',consolas,'Courier New',monospace\"><span style=\"font-weight: bold\"> Total params: </span><span style=\"color: #00af00; text-decoration-color: #00af00\">52,749</span> (206.05 KB)\n",
       "</pre>\n"
      ],
      "text/plain": [
       "\u001b[1m Total params: \u001b[0m\u001b[38;5;34m52,749\u001b[0m (206.05 KB)\n"
      ]
     },
     "metadata": {},
     "output_type": "display_data"
    },
    {
     "data": {
      "text/html": [
       "<pre style=\"white-space:pre;overflow-x:auto;line-height:normal;font-family:Menlo,'DejaVu Sans Mono',consolas,'Courier New',monospace\"><span style=\"font-weight: bold\"> Trainable params: </span><span style=\"color: #00af00; text-decoration-color: #00af00\">52,749</span> (206.05 KB)\n",
       "</pre>\n"
      ],
      "text/plain": [
       "\u001b[1m Trainable params: \u001b[0m\u001b[38;5;34m52,749\u001b[0m (206.05 KB)\n"
      ]
     },
     "metadata": {},
     "output_type": "display_data"
    },
    {
     "data": {
      "text/html": [
       "<pre style=\"white-space:pre;overflow-x:auto;line-height:normal;font-family:Menlo,'DejaVu Sans Mono',consolas,'Courier New',monospace\"><span style=\"font-weight: bold\"> Non-trainable params: </span><span style=\"color: #00af00; text-decoration-color: #00af00\">0</span> (0.00 B)\n",
       "</pre>\n"
      ],
      "text/plain": [
       "\u001b[1m Non-trainable params: \u001b[0m\u001b[38;5;34m0\u001b[0m (0.00 B)\n"
      ]
     },
     "metadata": {},
     "output_type": "display_data"
    }
   ],
   "source": [
    "model = Sequential([\n",
    "    SimpleRNN(hidden_units,input_shape=(None,num_features)),\n",
    "    RepeatVector(max_length),\n",
    "    SimpleRNN(hidden_units,return_sequences= True),\n",
    "    TimeDistributed(Dense(num_features,activation='softmax'))\n",
    "])\n",
    "\n",
    "model.compile(\n",
    "    loss ='categorical_crossentropy',\n",
    "    optimizer = 'adam',\n",
    "    metrics = ['accuracy']\n",
    "              )\n",
    "model.summary()"
   ]
  },
  {
   "cell_type": "code",
   "execution_count": 16,
   "metadata": {
    "colab": {
     "base_uri": "https://localhost:8080/",
     "height": 53
    },
    "id": "fk6nk0Jq20FZ",
    "outputId": "97e69c8c-ebdc-4940-8490-2cfff54f6ea9"
   },
   "outputs": [
    {
     "name": "stdout",
     "output_type": "stream",
     "text": [
      "0.57 _ 0.62 _ 0.66 _ 0.68 _ 0.70 _ 0.72 _ 0.76 _ 0.77 _ 0.78 _ 0.81 _ 0.82 _ 0.83 _ 0.84 _ 0.85 _ 0.86 _ 0.86 _ 0.86 _ 0.87 _ 0.87 _ 0.88 _ 0.88 _ 0.88 _ 0.89 _ 0.89 _ 0.89 _ 0.89 _ 0.89 _ 0.90 _ 0.89 _ 0.90 _ 0.90 _ 0.91 _ 0.91 _ 0.91 _ 0.91 _ 0.92 _ 0.91 _ 0.92 _ 0.92 _ 0.90 _ 0.92 _ 0.92 _ 0.92 _ 0.92 _ 0.93 _ 0.92 _ 0.93 _ 0.92 _ 0.93 _ 0.93 _ 0.93 _ 0.94 _ 0.94 _ 0.94 _ 0.94 _ 0.94 _ 0.93 _ 0.94 _ 0.95 _ 0.94 _ 0.95 _ 0.94 _ 0.95 _ 0.94 _ 0.95 _ 0.95 _ 0.95 _ 0.95 _ 0.95 _ 0.95 _ 0.94 _ 0.95 _ 0.95 _ 0.95 _ 0.96 _ 0.95 _ 0.95 _ 0.95 _ 0.96 _ 0.95 _ 0.95 _ 0.96 _ 0.96 _ 0.96 _ 0.94 _ 0.95 _ 0.96 _ 0.96 _ 0.96 _ 0.96 _ 0.96 _ 0.96 _ 0.96 _ 0.96 _ 0.97 _ 0.96 _ 0.97 _ 0.96 _ 0.96 _ 0.96 _ 0.97 _ 0.93 _ 0.97 _ 0.97 _ 0.97 _ 0.97 _ 0.96 _ 0.97 _ 0.97 _ 0.97 _ 0.96 _ 0.96 _ 0.97 _ 0.98 _ 0.97 _ 0.97 _ 0.97 _ 0.97 _ 0.97 _ 0.96 _ 0.97 _ 0.97 _ 0.97 _ 0.98 _ 0.98 _ 0.98 _ 0.97 _ 0.97 _ 0.97 _ 0.98 _ 0.98 _ 0.98 _ 0.97 _ 0.97 _ 0.98 _ 0.97 _ 0.98 _ 0.97 _ 0.97 _ 0.98 _ 0.98 _ 0.97 _ 0.97 _ 0.98 _ 0.98 _ 0.98 _ 0.98 _ 0.98 _ 0.96 _ 0.98 _ 0.98 _ 0.98 _ 0.97 _ 0.98 _ 0.98 _ 0.99 _ 0.99 _ 0.96 _ 0.97 _ 0.99 _ 0.99 _ 0.99 _ 0.99 _ 0.97 _ 0.97 _ 0.98 _ 0.98 _ 0.99 _ 0.99 _ 0.97 _ 0.98 _ 0.98 _ 0.99 _ 0.99 _ 0.98 _ 0.96 _ 0.98 _ 0.99 _ 0.99 _ 0.99 _ 0.99 _ 0.99 _ 0.96 _ 0.98 _ 0.99 _ 0.99 _ 0.99 _ 0.99 _ 0.97 _ 0.98 _ 0.99 _ 0.99 _ 0.99 _ 0.99 _ 0.99 _ 0.98 _ 0.96 _ 0.99 _ 0.99 _ 0.99 _ 0.99 _ 0.99 _ 0.99 _ 0.96 _ 0.97 _ 0.99 _ 0.99 _ 0.99 _ 0.99 _ 0.99 _ 0.99 _ 0.99 _ 0.92 _ 0.99 _ 0.99 _ 0.99 _ 0.99 _ 0.99 _ 0.99 _ 0.99 _ 0.99 _ 0.96 _ 0.99 _ 0.99 _ 0.99 _ 0.99 _ 0.99 _ 0.99 _ 0.99 _ 0.99 _ 0.94 _ 0.98 _ 0.99 _ 0.99 _ 0.99 _ 0.99 _ 1.00 _ 1.00 _ 1.00 _ 1.00 _ 0.93 _ 0.98 _ 0.99 _ 0.99 _ 0.99 _ 0.99 _ 1.00 _ 1.00 _ 1.00 _ 1.00 _ 1.00 _ 0.94 _ 0.98 _ 0.99 _ 0.99 _ 1.00 _ 1.00 _ 1.00 _ 1.00 _ 1.00 _ 1.00 _ 1.00 _ 0.92 _ 0.98 _ 0.99 _ 0.99 _ 1.00 _ 1.00 _ 1.00 _ 1.00 _ 1.00 _ 1.00 _ 0.93 _ 0.97 _ 0.99 _ 0.99 _ 0.99 _ 1.00 _ 1.00 _ 1.00 _ 1.00 _ 1.00 _ 1.00 _ 1.00 _ 0.90 _ 0.98 _ 0.99 _ 0.99 _ 1.00 _ 1.00 _ "
     ]
    },
    {
     "data": {
      "text/plain": [
       "<keras.src.callbacks.history.History at 0x2093aefcb30>"
      ]
     },
     "execution_count": 16,
     "metadata": {},
     "output_type": "execute_result"
    }
   ],
   "source": [
    "early_stopping = EarlyStopping(monitor = 'val_loss',patience=20)\n",
    "simple_logger = LambdaCallback(\n",
    "    on_epoch_end=lambda e, l: print('{:.2f}'.format(l['val_accuracy']), end=' _ ')\n",
    ")\n",
    "\n",
    "\n",
    "model.fit(x_train,y_train,epochs=1000,validation_split=0.2,verbose=False,batch_size=512,callbacks=[early_stopping,simple_logger])"
   ]
  },
  {
   "cell_type": "code",
   "execution_count": 17,
   "metadata": {
    "colab": {
     "base_uri": "https://localhost:8080/",
     "height": 375
    },
    "id": "E5oIFXLU4zCN",
    "outputId": "f6416430-343c-498d-fec1-fc7e8fb7f6f4"
   },
   "outputs": [
    {
     "name": "stdout",
     "output_type": "stream",
     "text": [
      "\u001b[1m1/1\u001b[0m \u001b[32m━━━━━━━━━━━━━━━━━━━━\u001b[0m\u001b[37m\u001b[0m \u001b[1m1s\u001b[0m 1s/step\n",
      "\u001b[32mInput: 20-49, Out: -29, Pred: -29\u001b[0m\n",
      "\u001b[32mInput: 56*92, Out: 5152, Pred: 5152\u001b[0m\n",
      "\u001b[32mInput: 41+14, Out: 55, Pred: 55\u001b[0m\n",
      "\u001b[32mInput: 56*25, Out: 1400, Pred: 1400\u001b[0m\n",
      "\u001b[32mInput: 73+34, Out: 107, Pred: 107\u001b[0m\n",
      "\u001b[32mInput: 22+90, Out: 112, Pred: 112\u001b[0m\n",
      "\u001b[32mInput: 38*69, Out: 2622, Pred: 2622\u001b[0m\n",
      "\u001b[32mInput: 81-65, Out: 16, Pred: 16\u001b[0m\n",
      "\u001b[32mInput: 91+18, Out: 109, Pred: 109\u001b[0m\n",
      "\u001b[32mInput: 92-32, Out: 60, Pred: 60\u001b[0m\n",
      "\u001b[32mInput: 44+59, Out: 103, Pred: 103\u001b[0m\n",
      "\u001b[32mInput: 29*77, Out: 2233, Pred: 2233\u001b[0m\n",
      "\u001b[32mInput: 23*20, Out: 460, Pred: 460\u001b[0m\n",
      "\u001b[32mInput: 68-90, Out: -22, Pred: -22\u001b[0m\n",
      "\u001b[32mInput: 6+43, Out: 49, Pred: 49\u001b[0m\n",
      "\u001b[32mInput: 17-24, Out: -7, Pred: -7\u001b[0m\n",
      "\u001b[32mInput: 50-7, Out: 43, Pred: 43\u001b[0m\n",
      "\u001b[32mInput: 88*12, Out: 1056, Pred: 1056\u001b[0m\n",
      "\u001b[32mInput: 82*52, Out: 4264, Pred: 4264\u001b[0m\n",
      "\u001b[32mInput: 18*38, Out: 684, Pred: 684\u001b[0m\n",
      "\n",
      "Full sequence accuracy: 100.000 %\n"
     ]
    }
   ],
   "source": [
    "x_test, y_test = generate_dataset(num_examples=20)\n",
    "preds = model.predict(x_test)\n",
    "full_seq_acc = 0\n",
    "\n",
    "for i, pred in enumerate(preds):\n",
    "    pred_str = strip_zeros(devectorized(pred))\n",
    "    y_test_str = strip_zeros(devectorized(y_test[i]))\n",
    "    x_test_str = strip_zeros(devectorized(x_test[i]))\n",
    "    col = 'green' if pred_str == y_test_str else 'red'\n",
    "    full_seq_acc += 1/len(preds) * int(pred_str == y_test_str)\n",
    "    outstring = 'Input: {}, Out: {}, Pred: {}'.format(x_test_str, y_test_str, pred_str)\n",
    "    print(colored(outstring, col))\n",
    "print('\\nFull sequence accuracy: {:.3f} %'.format(100 * full_seq_acc))"
   ]
  },
  {
   "cell_type": "code",
   "execution_count": 19,
   "metadata": {},
   "outputs": [
    {
     "name": "stderr",
     "output_type": "stream",
     "text": [
      "WARNING:absl:You are saving your model as an HDF5 file via `model.save()` or `keras.saving.save_model(model)`. This file format is considered legacy. We recommend using instead the native Keras format, e.g. `model.save('my_model.keras')` or `keras.saving.save_model(model, 'my_model.keras')`. \n"
     ]
    }
   ],
   "source": [
    "#Saving the trained model\n",
    "\n",
    "model.save('../saved_model/rnn_arithmetic_model.h5')\n"
   ]
  }
 ],
 "metadata": {
  "colab": {
   "provenance": []
  },
  "kernelspec": {
   "display_name": "Python 3 (ipykernel)",
   "language": "python",
   "name": "python3"
  },
  "language_info": {
   "codemirror_mode": {
    "name": "ipython",
    "version": 3
   },
   "file_extension": ".py",
   "mimetype": "text/x-python",
   "name": "python",
   "nbconvert_exporter": "python",
   "pygments_lexer": "ipython3",
   "version": "3.12.1"
  }
 },
 "nbformat": 4,
 "nbformat_minor": 4
}

{
 "cells": [
  {
   "cell_type": "code",
   "execution_count": 10,
   "metadata": {
    "id": "GZiuVDSTpWRu"
   },
   "outputs": [
    {
     "ename": "ModuleNotFoundError",
     "evalue": "No module named 'tensorflow'",
     "output_type": "error",
     "traceback": [
      "\u001b[1;31m---------------------------------------------------------------------------\u001b[0m",
      "\u001b[1;31mModuleNotFoundError\u001b[0m                       Traceback (most recent call last)",
      "Cell \u001b[1;32mIn[10], line 4\u001b[0m\n\u001b[0;32m      1\u001b[0m \u001b[38;5;28;01mimport\u001b[39;00m \u001b[38;5;21;01mnumpy\u001b[39;00m \u001b[38;5;28;01mas\u001b[39;00m \u001b[38;5;21;01mnp\u001b[39;00m\n\u001b[0;32m      2\u001b[0m \u001b[38;5;28;01mfrom\u001b[39;00m \u001b[38;5;21;01mtermcolor\u001b[39;00m \u001b[38;5;28;01mimport\u001b[39;00m colored\n\u001b[1;32m----> 4\u001b[0m \u001b[38;5;28;01mfrom\u001b[39;00m \u001b[38;5;21;01mtensorflow\u001b[39;00m\u001b[38;5;21;01m.\u001b[39;00m\u001b[38;5;21;01mkeras\u001b[39;00m\u001b[38;5;21;01m.\u001b[39;00m\u001b[38;5;21;01mmodels\u001b[39;00m \u001b[38;5;28;01mimport\u001b[39;00m Sequential\n\u001b[0;32m      5\u001b[0m \u001b[38;5;28;01mfrom\u001b[39;00m \u001b[38;5;21;01mtensorflow\u001b[39;00m\u001b[38;5;21;01m.\u001b[39;00m\u001b[38;5;21;01mkeras\u001b[39;00m\u001b[38;5;21;01m.\u001b[39;00m\u001b[38;5;21;01mlayers\u001b[39;00m \u001b[38;5;28;01mimport\u001b[39;00m RepeatVector , SimpleRNN , TimeDistributed, Dense\n\u001b[0;32m      6\u001b[0m \u001b[38;5;28;01mfrom\u001b[39;00m \u001b[38;5;21;01mtensorflow\u001b[39;00m\u001b[38;5;21;01m.\u001b[39;00m\u001b[38;5;21;01mkeras\u001b[39;00m\u001b[38;5;21;01m.\u001b[39;00m\u001b[38;5;21;01mcallbacks\u001b[39;00m \u001b[38;5;28;01mimport\u001b[39;00m LambdaCallback , EarlyStopping\n",
      "\u001b[1;31mModuleNotFoundError\u001b[0m: No module named 'tensorflow'"
     ]
    }
   ],
   "source": [
    "import numpy as np\n",
    "from termcolor import colored\n",
    "\n",
    "from tensorflow.keras.models import Sequential\n",
    "from tensorflow.keras.layers import RepeatVector , SimpleRNN , TimeDistributed, Dense\n",
    "from tensorflow.keras.callbacks import LambdaCallback , EarlyStopping"
   ]
  },
  {
   "cell_type": "code",
   "execution_count": null,
   "metadata": {
    "colab": {
     "base_uri": "https://localhost:8080/",
     "height": 33
    },
    "id": "hQ11iZX0p5eS",
    "outputId": "ca6198c1-341d-48dc-9aab-3a4745c28fff"
   },
   "outputs": [
    {
     "name": "stdout",
     "output_type": "stream",
     "text": [
      "13\n"
     ]
    }
   ],
   "source": [
    "all_chars = '0123456789+-*'\n",
    "num_features = len(all_chars)\n",
    "print(num_features)\n",
    "max_length = 5"
   ]
  },
  {
   "cell_type": "code",
   "execution_count": null,
   "metadata": {
    "colab": {
     "base_uri": "https://localhost:8080/",
     "height": 50
    },
    "id": "t7XtZ72VtSx1",
    "outputId": "1c2672f1-2f1c-40ad-ff60-a8203fe5e0c3"
   },
   "outputs": [
    {
     "name": "stdout",
     "output_type": "stream",
     "text": [
      "{'0': 0, '1': 1, '2': 2, '3': 3, '4': 4, '5': 5, '6': 6, '7': 7, '8': 8, '9': 9, '+': 10, '-': 11, '*': 12}\n",
      "{0: '0', 1: '1', 2: '2', 3: '3', 4: '4', 5: '5', 6: '6', 7: '7', 8: '8', 9: '9', 10: '+', 11: '-', 12: '*'}\n"
     ]
    }
   ],
   "source": [
    "char_to_index = dict((c,i) for i,c in enumerate(all_chars))\n",
    "index_to_char = dict((i,c) for i,c in enumerate(all_chars))\n",
    "print(char_to_index)\n",
    "print(index_to_char)"
   ]
  },
  {
   "cell_type": "code",
   "execution_count": null,
   "metadata": {
    "id": "d4-g-mqHqX9z"
   },
   "outputs": [],
   "source": [
    "def generate_data():\n",
    "  first_num = np.random.randint(0,100)\n",
    "  second_num = np.random.randint(0,100)\n",
    "  sign = np.random.randint(0,4)\n",
    "  if sign == 0:\n",
    "    example = str(first_num) + '+' + str(second_num)\n",
    "    label = str(first_num + second_num)\n",
    "  elif sign == 1:\n",
    "    example = str(first_num) + '-' + str(second_num)\n",
    "    label = str(first_num - second_num)\n",
    "  elif sign == 2:\n",
    "    example = str(first_num) + '*' + str(second_num)\n",
    "    label = str(first_num * second_num)\n",
    "  elif sign == 3:\n",
    "    example = str(first_num) + '*' + str(second_num)\n",
    "    label = str(first_num * second_num)\n",
    "\n",
    "  return example,label"
   ]
  },
  {
   "cell_type": "code",
   "execution_count": null,
   "metadata": {
    "colab": {
     "base_uri": "https://localhost:8080/",
     "height": 33
    },
    "id": "v8luTscDrTkL",
    "outputId": "c1d08ee4-36cb-45c2-c7da-6b06aa57bb02"
   },
   "outputs": [
    {
     "name": "stdout",
     "output_type": "stream",
     "text": [
      "23+25 48\n"
     ]
    }
   ],
   "source": [
    "e,l = generate_data()\n",
    "print(e,l)"
   ]
  },
  {
   "cell_type": "code",
   "execution_count": null,
   "metadata": {
    "id": "hcjN6dx3rtt-"
   },
   "outputs": [],
   "source": [
    "def generate_dataset(num_examples=5000):\n",
    "  x_train = np.zeros((num_examples,max_length,num_features))\n",
    "  y_train = np.zeros((num_examples,max_length,num_features))\n",
    "\n",
    "  for i in range(num_examples):\n",
    "    e,l = generate_data()\n",
    "    e,l = vectorized(e,l)\n",
    "    x_train[i] = e\n",
    "    y_train[i] = l\n",
    "\n",
    "  return(x_train,y_train)"
   ]
  },
  {
   "cell_type": "code",
   "execution_count": null,
   "metadata": {
    "id": "0ZCY3xZlsxRT"
   },
   "outputs": [],
   "source": [
    "def vectorized(example,label):\n",
    "  x = np.zeros((max_length,num_features))\n",
    "  y = np.zeros((max_length,num_features))\n",
    "  diff_x = max_length - len(example)\n",
    "  diff_y = max_length - len(label)\n",
    "\n",
    "  for i,c in enumerate(example):\n",
    "    x[diff_x+i,char_to_index[c]] = 1\n",
    "\n",
    "  for i in range(diff_x):\n",
    "    x[i,char_to_index['0']] = 1\n",
    "\n",
    "  for i,c in enumerate(label):\n",
    "    y[diff_y+i,char_to_index[c]] = 1\n",
    "\n",
    "  for i in range(diff_y):\n",
    "    y[i,char_to_index['0']] = 1\n",
    "\n",
    "  return x,y"
   ]
  },
  {
   "cell_type": "code",
   "execution_count": null,
   "metadata": {
    "id": "os54KM5Fvhln"
   },
   "outputs": [],
   "source": [
    "a,b = vectorized('5+5','10')"
   ]
  },
  {
   "cell_type": "code",
   "execution_count": null,
   "metadata": {
    "id": "gGXeglXuvn0o"
   },
   "outputs": [],
   "source": [
    "def devectorized(label):\n",
    "  result = [index_to_char[np.argmax(vec)] for i,vec in enumerate(label)]\n",
    "  return ''.join(result)"
   ]
  },
  {
   "cell_type": "code",
   "execution_count": null,
   "metadata": {
    "colab": {
     "base_uri": "https://localhost:8080/",
     "height": 50
    },
    "id": "oqkj7rM-v82M",
    "outputId": "c92a0ac3-f4fc-4d91-faa2-705b0e6c6ac8"
   },
   "outputs": [
    {
     "name": "stdout",
     "output_type": "stream",
     "text": [
      "00010\n",
      "005+5\n"
     ]
    }
   ],
   "source": [
    "print(devectorized(b))\n",
    "print(devectorized(a))"
   ]
  },
  {
   "cell_type": "code",
   "execution_count": null,
   "metadata": {
    "id": "tcz_T9newJKh"
   },
   "outputs": [],
   "source": [
    "def strip_zeros(example):\n",
    "  out = ''\n",
    "  encountered_non_zero = False\n",
    "  non_zero = '123456789-'\n",
    "  for i in example:\n",
    "    if i in non_zero :\n",
    "      encountered_non_zero = True\n",
    "    if encountered_non_zero == True:\n",
    "      out += i\n",
    "  return out"
   ]
  },
  {
   "cell_type": "code",
   "execution_count": null,
   "metadata": {
    "colab": {
     "base_uri": "https://localhost:8080/",
     "height": 33
    },
    "id": "s_EduaIsx9SS",
    "outputId": "11735764-7965-4576-82d4-57cfa4695925"
   },
   "outputs": [
    {
     "data": {
      "text/plain": [
       "'10'"
      ]
     },
     "execution_count": 120,
     "metadata": {
      "tags": []
     },
     "output_type": "execute_result"
    }
   ],
   "source": [
    "strip_zeros('0010')"
   ]
  },
  {
   "cell_type": "code",
   "execution_count": null,
   "metadata": {
    "id": "2zVGA1lW1XT8"
   },
   "outputs": [],
   "source": [
    "hidden_units = 128"
   ]
  },
  {
   "cell_type": "code",
   "execution_count": null,
   "metadata": {
    "id": "MeKUMWJm3ysF"
   },
   "outputs": [],
   "source": [
    "x_train , y_train = generate_dataset(100000)"
   ]
  },
  {
   "cell_type": "code",
   "execution_count": null,
   "metadata": {
    "colab": {
     "base_uri": "https://localhost:8080/",
     "height": 277
    },
    "id": "qdzEq_Oe1KkG",
    "outputId": "44f82a43-57b5-4c47-f519-193a7e172d2a"
   },
   "outputs": [
    {
     "name": "stdout",
     "output_type": "stream",
     "text": [
      "Model: \"sequential_4\"\n",
      "_________________________________________________________________\n",
      "Layer (type)                 Output Shape              Param #   \n",
      "=================================================================\n",
      "simple_rnn_8 (SimpleRNN)     (None, 128)               18176     \n",
      "_________________________________________________________________\n",
      "repeat_vector_4 (RepeatVecto (None, 5, 128)            0         \n",
      "_________________________________________________________________\n",
      "simple_rnn_9 (SimpleRNN)     (None, 5, 128)            32896     \n",
      "_________________________________________________________________\n",
      "time_distributed_4 (TimeDist (None, 5, 13)             1677      \n",
      "=================================================================\n",
      "Total params: 52,749\n",
      "Trainable params: 52,749\n",
      "Non-trainable params: 0\n",
      "_________________________________________________________________\n"
     ]
    }
   ],
   "source": [
    "model = Sequential([\n",
    "    SimpleRNN(hidden_units,input_shape=(None,num_features)),\n",
    "    RepeatVector(max_length),\n",
    "    SimpleRNN(hidden_units,return_sequences= True),\n",
    "    TimeDistributed(Dense(num_features,activation='softmax'))\n",
    "])\n",
    "\n",
    "model.compile(\n",
    "    loss ='categorical_crossentropy',\n",
    "    optimizer = 'adam',\n",
    "    metrics = ['accuracy']\n",
    "              )\n",
    "model.summary()"
   ]
  },
  {
   "cell_type": "code",
   "execution_count": null,
   "metadata": {
    "colab": {
     "base_uri": "https://localhost:8080/",
     "height": 53
    },
    "id": "fk6nk0Jq20FZ",
    "outputId": "97e69c8c-ebdc-4940-8490-2cfff54f6ea9"
   },
   "outputs": [
    {
     "name": "stdout",
     "output_type": "stream",
     "text": [
      "0.57 _ 0.62 _ 0.66 _ 0.68 _ 0.69 _ 0.72 _ 0.74 _ 0.76 _ 0.79 _ 0.81 _ 0.82 _ 0.83 _ 0.85 _ 0.85 _ 0.86 _ 0.86 _ 0.86 _ 0.87 _ 0.88 _ 0.88 _ 0.88 _ 0.89 _ 0.89 _ 0.89 _ 0.90 _ 0.89 _ 0.90 _ 0.90 _ 0.91 _ 0.90 _ 0.91 _ 0.91 _ 0.91 _ 0.91 _ 0.92 _ 0.91 _ 0.92 _ 0.92 _ 0.91 _ 0.92 _ 0.92 _ 0.92 _ 0.93 _ 0.93 _ 0.93 _ 0.93 _ 0.93 _ 0.92 _ 0.93 _ 0.93 _ 0.94 _ 0.93 _ 0.93 _ 0.93 _ 0.94 _ 0.94 _ 0.94 _ 0.94 _ 0.94 _ 0.94 _ 0.94 _ 0.95 _ 0.94 _ 0.94 _ 0.95 _ 0.94 _ 0.95 _ 0.95 _ 0.95 _ 0.95 _ 0.95 _ 0.94 _ 0.95 _ 0.96 _ 0.95 _ 0.95 _ 0.95 _ 0.94 _ 0.95 _ 0.96 _ 0.96 _ 0.96 _ 0.96 _ 0.95 _ 0.96 _ 0.96 _ 0.96 _ 0.96 _ 0.95 _ 0.96 _ 0.96 _ 0.96 _ 0.96 _ 0.96 _ 0.96 _ 0.96 _ 0.96 _ 0.95 _ 0.96 _ 0.96 _ 0.97 _ 0.97 _ 0.97 _ 0.97 _ 0.97 _ 0.96 _ 0.97 _ 0.95 _ 0.97 _ 0.98 _ 0.97 _ 0.97 _ 0.97 _ 0.96 _ 0.97 _ 0.97 _ 0.97 _ 0.97 _ 0.97 _ 0.97 _ 0.97 _ 0.97 _ 0.98 _ 0.98 _ 0.97 _ 0.97 _ 0.97 _ 0.97 _ 0.97 _ 0.97 _ 0.98 _ 0.98 _ 0.95 _ 0.97 _ 0.98 _ 0.98 _ 0.98 _ 0.98 _ 0.96 _ 0.97 _ 0.98 _ 0.98 _ 0.98 _ 0.98 _ 0.95 _ 0.97 _ 0.98 _ 0.99 _ 0.98 _ 0.97 _ 0.97 _ 0.98 _ 0.98 _ 0.98 _ 0.98 _ 0.97 _ 0.97 _ 0.97 _ 0.98 _ 0.98 _ 0.99 _ 0.99 _ 0.98 _ 0.96 _ 0.97 _ 0.98 _ 0.99 _ 0.99 _ 0.98 _ 0.98 _ 0.98 _ 0.99 _ 0.99 _ 0.98 _ 0.97 _ 0.98 _ 0.98 _ 0.98 _ 0.98 _ 0.98 _ 0.97 _ 0.98 _ 0.99 _ 0.99 _ 0.99 _ 0.99 _ 0.99 _ 0.99 _ 0.95 _ 0.98 _ 0.99 _ 0.99 _ 0.99 _ 0.99 _ 0.99 _ 0.95 _ 0.98 _ 0.99 _ 0.99 _ 0.99 _ 0.99 _ 0.99 _ 0.99 _ 0.95 _ 0.98 _ 0.99 _ 0.99 _ 0.99 _ 0.99 _ 0.99 _ 0.99 _ 0.93 _ 0.97 _ 0.99 _ 0.99 _ 0.99 _ 0.99 _ 0.99 _ 0.96 _ 0.98 _ 0.99 _ 0.99 _ 0.99 _ 0.99 _ 0.99 _ 0.99 _ 0.99 _ 0.94 _ 0.98 _ 0.99 _ 0.99 _ 0.99 _ 0.99 _ 0.99 _ 0.96 _ 0.98 _ 0.99 _ 0.99 _ 0.99 _ 0.99 _ 0.99 _ 1.00 _ 1.00 _ 0.98 _ 0.96 _ 0.99 _ 0.99 _ 0.99 _ 0.99 _ 0.99 _ 1.00 _ 1.00 _ 0.99 _ 0.94 _ 0.98 _ 0.99 _ 0.99 _ 1.00 _ 1.00 _ 1.00 _ 1.00 _ 1.00 _ 1.00 _ 1.00 _ 0.93 _ 0.98 _ 0.99 _ 0.99 _ 1.00 _ 1.00 _ 1.00 _ 1.00 _ 1.00 _ 0.99 _ 0.96 _ 0.97 _ 0.99 _ 0.99 _ 0.99 _ 1.00 _ 1.00 _ 1.00 _ 1.00 _ 1.00 _ 0.95 _ 0.99 _ 0.99 _ 0.99 _ 0.99 _ 0.99 _ 0.99 _ 0.97 _ 0.98 _ 0.99 _ 1.00 _ 1.00 _ 1.00 _ 1.00 _ 1.00 _ 1.00 _ 1.00 _ 1.00 _ 0.92 _ 0.98 _ 0.99 _ 1.00 _ 1.00 _ 1.00 _ 1.00 _ 1.00 _ 1.00 _ 1.00 _ 1.00 _ 1.00 _ 1.00 _ 1.00 _ 0.96 _ 0.99 _ 0.99 _ 1.00 _ 0.99 _ 0.98 _ 0.98 _ 0.99 _ 0.99 _ 0.99 _ 0.98 _ 0.98 _ 0.99 _ 0.99 _ 1.00 _ 1.00 _ "
     ]
    },
    {
     "data": {
      "text/plain": [
       "<tensorflow.python.keras.callbacks.History at 0x7f5159d6ac88>"
      ]
     },
     "execution_count": 124,
     "metadata": {
      "tags": []
     },
     "output_type": "execute_result"
    }
   ],
   "source": [
    "early_stopping = EarlyStopping(monitor = 'val_loss',patience=20)\n",
    "simple_logger = LambdaCallback(\n",
    "    on_epoch_end=lambda e, l: print('{:.2f}'.format(l['val_accuracy']), end=' _ ')\n",
    ")\n",
    "\n",
    "\n",
    "model.fit(x_train,y_train,epochs=1000,validation_split=0.2,verbose=False,batch_size=512,callbacks=[early_stopping,simple_logger])"
   ]
  },
  {
   "cell_type": "code",
   "execution_count": null,
   "metadata": {
    "colab": {
     "base_uri": "https://localhost:8080/",
     "height": 375
    },
    "id": "E5oIFXLU4zCN",
    "outputId": "f6416430-343c-498d-fec1-fc7e8fb7f6f4"
   },
   "outputs": [
    {
     "name": "stdout",
     "output_type": "stream",
     "text": [
      "\u001b[32mInput: 32-78, Out: -46, Pred: -46\u001b[0m\n",
      "\u001b[32mInput: 30*11, Out: 330, Pred: 330\u001b[0m\n",
      "\u001b[32mInput: 43-25, Out: 18, Pred: 18\u001b[0m\n",
      "\u001b[32mInput: 69*25, Out: 1725, Pred: 1725\u001b[0m\n",
      "\u001b[32mInput: 72+85, Out: 157, Pred: 157\u001b[0m\n",
      "\u001b[32mInput: 79*24, Out: 1896, Pred: 1896\u001b[0m\n",
      "\u001b[32mInput: 19*93, Out: 1767, Pred: 1767\u001b[0m\n",
      "\u001b[32mInput: 23*39, Out: 897, Pred: 897\u001b[0m\n",
      "\u001b[32mInput: 98*99, Out: 9702, Pred: 9702\u001b[0m\n",
      "\u001b[32mInput: 44*85, Out: 3740, Pred: 3740\u001b[0m\n",
      "\u001b[32mInput: 73*9, Out: 657, Pred: 657\u001b[0m\n",
      "\u001b[32mInput: 31-27, Out: 4, Pred: 4\u001b[0m\n",
      "\u001b[32mInput: 57*37, Out: 2109, Pred: 2109\u001b[0m\n",
      "\u001b[32mInput: 94-95, Out: -1, Pred: -1\u001b[0m\n",
      "\u001b[32mInput: 13-25, Out: -12, Pred: -12\u001b[0m\n",
      "\u001b[32mInput: 10-72, Out: -62, Pred: -62\u001b[0m\n",
      "\u001b[32mInput: 59*95, Out: 5605, Pred: 5605\u001b[0m\n",
      "\u001b[32mInput: 70+22, Out: 92, Pred: 92\u001b[0m\n",
      "\u001b[32mInput: 29*42, Out: 1218, Pred: 1218\u001b[0m\n",
      "\u001b[32mInput: 83*42, Out: 3486, Pred: 3486\u001b[0m\n",
      "\n",
      "Full sequence accuracy: 100.000 %\n"
     ]
    }
   ],
   "source": [
    "x_test, y_test = generate_dataset(num_examples=20)\n",
    "preds = model.predict(x_test)\n",
    "full_seq_acc = 0\n",
    "\n",
    "for i, pred in enumerate(preds):\n",
    "    pred_str = strip_zeros(devectorized(pred))\n",
    "    y_test_str = strip_zeros(devectorized(y_test[i]))\n",
    "    x_test_str = strip_zeros(devectorized(x_test[i]))\n",
    "    col = 'green' if pred_str == y_test_str else 'red'\n",
    "    full_seq_acc += 1/len(preds) * int(pred_str == y_test_str)\n",
    "    outstring = 'Input: {}, Out: {}, Pred: {}'.format(x_test_str, y_test_str, pred_str)\n",
    "    print(colored(outstring, col))\n",
    "print('\\nFull sequence accuracy: {:.3f} %'.format(100 * full_seq_acc))"
   ]
  }
 ],
 "metadata": {
  "colab": {
   "provenance": []
  },
  "kernelspec": {
   "display_name": "Python 3",
   "name": "python3"
  },
  "language_info": {
   "codemirror_mode": {
    "name": "ipython",
    "version": 3
   },
   "file_extension": ".py",
   "mimetype": "text/x-python",
   "name": "python",
   "nbconvert_exporter": "python",
   "pygments_lexer": "ipython3",
   "version": "3.12.1"
  }
 },
 "nbformat": 4,
 "nbformat_minor": 0
}
